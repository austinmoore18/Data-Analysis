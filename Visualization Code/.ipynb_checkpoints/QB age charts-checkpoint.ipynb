{
 "cells": [
  {
   "cell_type": "markdown",
   "id": "46b92cec",
   "metadata": {},
   "source": [
    "What quarterbacks do I want to see age analysis. \n",
    "1. Tom Brady\n",
    "2. Peyton Manning\n",
    "3. Aaron Rodgers\n",
    "4. Ben Roethlisberger"
   ]
  },
  {
   "cell_type": "markdown",
   "id": "9a9a96c8",
   "metadata": {},
   "source": [
    "To-do list:\n",
    "1. Pull in data from 1999 on\n",
    "2. passing player filter\n",
    "3. group by player, epa, season; agg on epa\n",
    "4. pull in headshot photos"
   ]
  },
  {
   "cell_type": "code",
   "execution_count": 1,
   "id": "1d5973a7",
   "metadata": {},
   "outputs": [
    {
     "name": "stderr",
     "output_type": "stream",
     "text": [
      "/Users/moore_austin02/opt/anaconda3/lib/python3.9/site-packages/nflfastpy/__init__.py:16: MatplotlibDeprecationWarning: Directly reading images from URLs is deprecated since 3.4 and will no longer be supported two minor releases later. Please open the URL for reading and pass the result to Pillow, e.g. with ``PIL.Image.open(urllib.request.urlopen(url))``.\n",
      "  default_headshot = mpl_image.imread(headshot_url)\n"
     ]
    }
   ],
   "source": [
    "import numpy as np\n",
    "import numpy.random as npr\n",
    "import matplotlib.pyplot as plt\n",
    "import pandas as pd\n",
    "import statsmodels.formula.api as smf\n",
    "import seaborn as sns\n",
    "import nflfastpy as nfl\n",
    "import requests # we're going to use this to make a HTTP request for player headshots\n",
    "from io import BytesIO # we're going to use this to load image data"
   ]
  },
  {
   "cell_type": "code",
   "execution_count": null,
   "id": "1b5227f8",
   "metadata": {},
   "outputs": [],
   "source": [
    "data = pd.concat([nfl.load_pbp_data(season).assign(season=season) for season in range(1999, 2021)])"
   ]
  },
  {
   "cell_type": "code",
   "execution_count": null,
   "id": "c871a5cc",
   "metadata": {},
   "outputs": [],
   "source": [
    "data1 = data.loc[(data['passer_player_name']=='P.Manning') | (data['passer_player_name']=='T.Brady')|(data['passer_player_name']=='A.Rodgers')|(data['passer_player_name']=='B.Roethlisberger')|(data['passer_player_name']=='E.Manning')|(data['passer_player_name']=='J.Flacco')|(data['passer_player_name']=='C.Newton')|(data['passer_player_name']=='P.Rivers')|(data['passer_player_name']=='C.Palmer')|(data['passer_player_name']=='D.Brees')]"
   ]
  },
  {
   "cell_type": "code",
   "execution_count": null,
   "id": "4ba789ff",
   "metadata": {},
   "outputs": [],
   "source": [
    "data1"
   ]
  },
  {
   "cell_type": "code",
   "execution_count": null,
   "id": "fe635807",
   "metadata": {},
   "outputs": [],
   "source": [
    "colors = pd.read_csv('Teams.csv')"
   ]
  },
  {
   "cell_type": "code",
   "execution_count": null,
   "id": "8dfa9eac",
   "metadata": {},
   "outputs": [],
   "source": [
    "data2 = data1.merge(colors[['team_color', 'team_abbr']].rename(columns={'team_abbr': 'posteam'}), on='posteam')"
   ]
  },
  {
   "cell_type": "code",
   "execution_count": null,
   "id": "7b84f3e9",
   "metadata": {},
   "outputs": [],
   "source": [
    "roster_df = nfl.load_roster_data(2015)"
   ]
  },
  {
   "cell_type": "code",
   "execution_count": null,
   "id": "919aa2f7",
   "metadata": {},
   "outputs": [],
   "source": [
    "roster_df['first_name'] = roster_df['first_name'].str[:1]\n",
    "roster_df['name'] = roster_df['first_name'] + '.' + roster_df['last_name']"
   ]
  },
  {
   "cell_type": "code",
   "execution_count": null,
   "id": "e5cf0bff",
   "metadata": {},
   "outputs": [],
   "source": [
    "data3 = data2.merge(roster_df[['headshot_url', 'name']], on='name')"
   ]
  },
  {
   "cell_type": "code",
   "execution_count": null,
   "id": "1669a04b",
   "metadata": {},
   "outputs": [],
   "source": [
    "df = data3.groupby(['season','passer_player_name', 'team_color', 'headshot_url'], as_index=False).agg({'qb_epa': ['sum']})"
   ]
  },
  {
   "cell_type": "code",
   "execution_count": null,
   "id": "24924aaf",
   "metadata": {},
   "outputs": [],
   "source": [
    "df.columns = ['season', 'name', 'team_color', 'headshot_url', 'epa']\n"
   ]
  },
  {
   "cell_type": "code",
   "execution_count": null,
   "id": "d717633d",
   "metadata": {},
   "outputs": [],
   "source": [
    "groups = [group for group in df.groupby('name')]\n",
    "\n",
    "# 5 rows, 2 columns\n",
    "fig, axes = plt.subplots(5, 2, figsize=(13, 15))\n",
    "\n",
    "rows, columns = axes.shape[0], axes.shape[1]\n",
    "\n",
    "i = 0\n",
    "\n",
    "for row in range(rows):\n",
    "  for col in range(columns):\n",
    "\n",
    "    # get the df object\n",
    "    df = groups[i][-1]\n",
    "\n",
    "    player_name = df['name'].values[0]\n",
    "\n",
    "    primary_color = df['team_color'].values[0]\n",
    "\n",
    "    headshot_url = df['headshot_url'].values[0]\n",
    "\n",
    "    # make a HTTP request to grab the player image\n",
    "    response = requests.get(headshot_url)\n",
    "\n",
    "    # load the image as bytecode\n",
    "    img = plt.imread(BytesIO(response.content))\n",
    "\n",
    "    # plot a KDE plot of the player's air yards on the row, col ax and color it with the player's team color\n",
    "    ax = sns.lineplot(df['epa'], ax=axes[row, col], label=player_name, color=primary_color)\n",
    "\n",
    "    ax.set_aspect('auto')\n",
    "    \n",
    "    lines = ax.get_lines()[0].get_xydata()\n",
    "\n",
    "    x, y = lines[:, 0], lines[:, 1]\n",
    "\n",
    "    #extent argument left, right, bottom, top\n",
    "    ax.imshow(img, extent=[2015, 2020, 0, 0.03], aspect='auto', zorder=1000)\n",
    "\n",
    "    #fill the area underneath the curve\n",
    "    #ax.fill_between(x, y, color=primary_color, alpha=0.4)\n",
    "    \n",
    "    ax.set_xticks(range(1999, 2021, 3))\n",
    "    \n",
    "    ax.set_yticks(np.linspace(0, 0.07, 10))\n",
    "\n",
    "    ax.set_xlabel('season')\n",
    "\n",
    "    ax.set_ylabel('epa')\n",
    "    \n",
    "\n",
    "    #show us the legend\n",
    "    ax.legend()\n",
    "\n",
    "    i += 1\n",
    "\n",
    "#there's a lot of graphs\n",
    "plt.tight_layout();"
   ]
  },
  {
   "cell_type": "code",
   "execution_count": null,
   "id": "ac461798",
   "metadata": {},
   "outputs": [],
   "source": []
  }
 ],
 "metadata": {
  "kernelspec": {
   "display_name": "Python 3 (ipykernel)",
   "language": "python",
   "name": "python3"
  },
  "language_info": {
   "codemirror_mode": {
    "name": "ipython",
    "version": 3
   },
   "file_extension": ".py",
   "mimetype": "text/x-python",
   "name": "python",
   "nbconvert_exporter": "python",
   "pygments_lexer": "ipython3",
   "version": "3.9.7"
  }
 },
 "nbformat": 4,
 "nbformat_minor": 5
}

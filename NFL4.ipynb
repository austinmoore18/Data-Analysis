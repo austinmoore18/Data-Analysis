{
 "cells": [
  {
   "cell_type": "code",
   "execution_count": 317,
   "id": "23702bc2",
   "metadata": {},
   "outputs": [],
   "source": [
    "import numpy as np\n",
    "import numpy.random as npr\n",
    "import matplotlib.pyplot as plt\n",
    "import pandas as pd\n",
    "import statsmodels.formula.api as smf\n",
    "import seaborn as sns  # useful for exploratory data analysis (EDA)\n",
    "import sklearn         # machine learning\n",
    "from sklearn.linear_model import LogisticRegression\n",
    "from sklearn.linear_model import LinearRegression\n",
    "from sklearn.model_selection import train_test_split\n",
    "import nflfastpy as nfl\n",
    "#comments"
   ]
  },
  {
   "cell_type": "code",
   "execution_count": null,
   "id": "4b875669",
   "metadata": {},
   "outputs": [],
   "source": [
    "data = pd.concat([nfl.load_pbp_data(season).assign(season=season) for season in range(1999, 2021)])"
   ]
  },
  {
   "cell_type": "code",
   "execution_count": null,
   "id": "269b0947",
   "metadata": {},
   "outputs": [],
   "source": [
    "home_epa_play = data.groupby(['game_id']).apply(lambda x: x[x['posteam'] ==x['home_team']]['epa'].mean()).reset_index().rename(columns = {0:'home_epa_play'})"
   ]
  },
  {
   "cell_type": "code",
   "execution_count": null,
   "id": "cc8d646b",
   "metadata": {},
   "outputs": [],
   "source": [
    "home_epa_play"
   ]
  },
  {
   "cell_type": "code",
   "execution_count": null,
   "id": "b9a96925",
   "metadata": {},
   "outputs": [],
   "source": [
    "away_epa_play = data.groupby(['game_id']).apply(lambda x: x[x['posteam'] ==x['away_team']]['epa'].mean()).reset_index().rename(columns = {0:'home_epa_play'})\n",
    "away_epa_play"
   ]
  },
  {
   "cell_type": "code",
   "execution_count": null,
   "id": "973258ca",
   "metadata": {},
   "outputs": [],
   "source": [
    "away_epa_play\n"
   ]
  },
  {
   "cell_type": "code",
   "execution_count": null,
   "id": "92a246a9",
   "metadata": {},
   "outputs": [],
   "source": [
    "df1 = home_epa_play.merge(away_epa_play)\n",
    "df2 = home_epa_play.merge(away_epa_play, left_on='game_id', right_on='game_id')"
   ]
  },
  {
   "cell_type": "code",
   "execution_count": null,
   "id": "98788dfb",
   "metadata": {},
   "outputs": [],
   "source": [
    "df2.columns = ['game_id', 'home_epa_play', 'away_epa_play']"
   ]
  },
  {
   "cell_type": "code",
   "execution_count": null,
   "id": "66a24feb",
   "metadata": {},
   "outputs": [],
   "source": [
    "scores = data.groupby(['game_id']).agg({'home_score':'last', 'away_score': 'last'}).reset_index()\n",
    "scores['total'] = scores['home_score'] + scores['away_score']\n",
    "scores"
   ]
  },
  {
   "cell_type": "code",
   "execution_count": null,
   "id": "3be700f5",
   "metadata": {},
   "outputs": [],
   "source": [
    "final_prep = pd.merge(scores, df2)\n",
    "final_prep"
   ]
  },
  {
   "cell_type": "code",
   "execution_count": null,
   "id": "cb6782ec",
   "metadata": {},
   "outputs": [],
   "source": [
    "x = final_prep.total\n",
    "y = final_prep.home_epa_play + final_prep.away_epa_play\n",
    "fig, ax = plt.subplots(figsize = (12,7))\n",
    "ax.scatter(x, y) \n",
    "plt.style.use('seaborn-dark')"
   ]
  },
  {
   "cell_type": "code",
   "execution_count": null,
   "id": "2f4acc8f",
   "metadata": {},
   "outputs": [],
   "source": [
    "g = sns.pairplot(final_prep, hue='total', palette = \"YlOrBr\")"
   ]
  },
  {
   "cell_type": "code",
   "execution_count": null,
   "id": "4865f163",
   "metadata": {},
   "outputs": [],
   "source": [
    "train, test = train_test_split(final_prep, test_size = .2)"
   ]
  },
  {
   "cell_type": "code",
   "execution_count": null,
   "id": "d8e10cc6",
   "metadata": {},
   "outputs": [],
   "source": [
    "lin_reg = LinearRegression()\n",
    "trained_model = lin_reg.fit(train [['home_epa_play', 'away_epa_play']], train ['total'])\n",
    "r_sq = lin_reg.score(train [['home_epa_play', 'away_epa_play']], train ['total'])"
   ]
  },
  {
   "cell_type": "code",
   "execution_count": null,
   "id": "a52e9174",
   "metadata": {},
   "outputs": [],
   "source": [
    "test['pred_total'] = trained_model.predict(test[['home_epa_play', 'away_epa_play']])\n",
    "test['resid'] = test['total'] - test['pred_total']\n",
    "test"
   ]
  },
  {
   "cell_type": "code",
   "execution_count": null,
   "id": "85254ce2",
   "metadata": {},
   "outputs": [],
   "source": [
    "# new more compplex model\n",
    "rushing_offense_epa = data.loc[data['rush_attempt'] == 1, :]\\\n",
    ".groupby(['game_id', 'posteam', 'season', 'week'], as_index=False)['epa'].mean()\n",
    "\n",
    "rushing_defense_epa = data.loc[data['rush_attempt'] == 1, :]\\\n",
    ".groupby(['game_id','defteam', 'season', 'week'], as_index=False)['epa'].mean()\n",
    "\n",
    "passing_offense_epa = data.loc[data['pass_attempt'] == 1, :]\\\n",
    ".groupby(['game_id','posteam', 'season', 'week'], as_index=False)['epa'].mean()\n",
    "\n",
    "passing_defense_epa = data.loc[data['pass_attempt'] == 1, :]\\\n",
    ".groupby(['game_id','defteam', 'season', 'week'], as_index=False)['epa'].mean()"
   ]
  },
  {
   "cell_type": "code",
   "execution_count": null,
   "id": "53d2c6a9",
   "metadata": {},
   "outputs": [],
   "source": [
    "#adding lagged variables\n",
    "rushing_offense_epa['epa_shifted2'] = rushing_offense_epa.groupby('posteam')['epa'].shift(-2)\n",
    "#rushing_offense_epa['epa_shifted3'] = rushing_offense_epa.groupby('posteam')['epa'].shift(-3)\n",
    "#rushing_offense_epa['epa_shifted4'] = rushing_offense_epa.groupby('posteam')['epa'].shift(-4)\n",
    "\n",
    "rushing_defense_epa['epa_shifted2'] = rushing_defense_epa.groupby('defteam')['epa'].shift(-2)\n",
    "#rushing_defense_epa['epa_shifted3'] = rushing_defense_epa.groupby('defteam')['epa'].shift(-3)\n",
    "#rushing_defense_epa['epa_shifted4'] = rushing_defense_epa.groupby('defteam')['epa'].shift(-4)\n",
    "\n",
    "passing_offense_epa['epa_shifted2'] = passing_offense_epa.groupby('posteam')['epa'].shift(-2)\n",
    "#passing_offense_epa['epa_shifted3'] = passing_offense_epa.groupby('posteam')['epa'].shift(-3)\n",
    "#passing_offense_epa['epa_shifted4'] = passing_offense_epa.groupby('posteam')['epa'].shift(-4)\n",
    "\n",
    "passing_defense_epa['epa_shifted2'] = passing_defense_epa.groupby('defteam')['epa'].shift(-2)\n",
    "#passing_defense_epa['epa_shifted3'] = passing_defense_epa.groupby('defteam')['epa'].shift(-3)\n",
    "#passing_defense_epa['epa_shifted4'] = passing_defense_epa.groupby('defteam')['epa'].shift(-4)"
   ]
  },
  {
   "cell_type": "code",
   "execution_count": null,
   "id": "e6f52041",
   "metadata": {},
   "outputs": [],
   "source": [
    "offense_epa = rushing_offense_epa.merge(passing_offense_epa, on=['posteam', 'season', 'week'], suffixes=('_rushing', '_passing'))\\\n",
    ".rename(columns={'posteam': 'team'})\n",
    "defense_epa = rushing_defense_epa.merge(passing_defense_epa, on=['defteam', 'season', 'week'], suffixes=('_rushing', '_passing'))\\\n",
    ".rename(columns={'defteam': 'team'})\n",
    "epa = offense_epa.merge(defense_epa, on=['team', 'season', 'week'], suffixes=('_offense', '_defense'))"
   ]
  },
  {
   "cell_type": "code",
   "execution_count": null,
   "id": "b7b0f233",
   "metadata": {},
   "outputs": [],
   "source": [
    "epa = epa.rename(columns = {'game_id_rushing_offense':'game_id'})"
   ]
  },
  {
   "cell_type": "code",
   "execution_count": null,
   "id": "69eeadaf",
   "metadata": {},
   "outputs": [],
   "source": [
    "schedule = data[['season', 'week', 'home_team', 'away_team', 'home_score', 'away_score']]\\\n",
    ".drop_duplicates().reset_index(drop=True)\\\n",
    ".assign(home_team_win = lambda x: (x.home_score > x.away_score).astype(int))\n",
    "\n",
    "df = schedule.merge(epa.rename(columns={'team': 'home_team'}), on=['home_team', 'season', 'week'])\\\n",
    ".merge(epa.rename(columns={'team': 'away_team'}), on=['away_team', 'season', 'week'], suffixes=('_home', '_away'))\n",
    "\n",
    "df.head()"
   ]
  },
  {
   "cell_type": "code",
   "execution_count": null,
   "id": "a9783e78",
   "metadata": {},
   "outputs": [],
   "source": [
    "epa2 = df[[\n",
    " 'away_score',\n",
    "'season','epa_rushing_offense_home',\n",
    " 'epa_passing_offense_home','epa_rushing_defense_home','epa_passing_defense_home']]"
   ]
  },
  {
   "cell_type": "code",
   "execution_count": null,
   "id": "e7b531a4",
   "metadata": {},
   "outputs": [],
   "source": [
    "#a = sns.pairplot(epa2, hue='home_team_win', palette = \"YlOrBr\")\n",
    "#plt.savefig('EPA Correlations')"
   ]
  },
  {
   "cell_type": "code",
   "execution_count": null,
   "id": "0457d111",
   "metadata": {},
   "outputs": [],
   "source": [
    "df = df.dropna()\n",
    "df2 = df.drop(['season','home_score', 'away_score', 'home_team', 'week', 'away_team', 'game_id_home', 'game_id_passing_defense_home', 'game_id_passing_offense_home', 'game_id_rushing_defense_home','game_id_away','game_id_passing_offense_away','game_id_rushing_defense_away','game_id_passing_defense_away'], axis = 1)\n",
    "features = list(df2.columns)\n",
    "features"
   ]
  },
  {
   "cell_type": "code",
   "execution_count": null,
   "id": "4a856355",
   "metadata": {},
   "outputs": [],
   "source": [
    "X_train, X_test, y_train, y_test = train_test_split(\n",
    "                                                    df2.drop('home_team_win',axis=1), \n",
    "                                                    df2['home_team_win'], \n",
    "                                                    test_size=0.20,\n",
    "                                                    random_state=10)"
   ]
  },
  {
   "cell_type": "code",
   "execution_count": null,
   "id": "97fbf5e3",
   "metadata": {},
   "outputs": [],
   "source": [
    "from sklearn import metrics\n",
    "from sklearn.linear_model import LogisticRegression\n",
    "\n",
    "\n",
    "\n",
    "# Fit model based on training data\n",
    "logit = LogisticRegression(random_state=0,solver='liblinear')\n",
    "logit.fit(X_train, y_train)\n",
    "\n",
    "# making predictions on the testing set\n",
    "y_pred = logit.predict(X_test)\n",
    "  \n",
    "# Model Accuracy: how often is the classifier correct?\n",
    "print(f'The Logistic model correctly predicts a win {100*metrics.accuracy_score(y_test, y_pred):.2f}% of the time.')"
   ]
  },
  {
   "cell_type": "code",
   "execution_count": null,
   "id": "1bee853a",
   "metadata": {},
   "outputs": [],
   "source": [
    "importance = logit.coef_[0]\n",
    "# summarize feature importance\n",
    "for i,v in enumerate(importance):\n",
    "\tprint('Feature: %0d, Score: %.5f' % (i,v))\n",
    "# plot feature importance\n",
    "plt.bar([x for x in range(len(importance))], importance)\n",
    "plt.show()"
   ]
  },
  {
   "cell_type": "code",
   "execution_count": null,
   "id": "949209a7",
   "metadata": {},
   "outputs": [],
   "source": [
    "from sklearn.metrics import confusion_matrix\n",
    "\n",
    "\n",
    "cm = confusion_matrix(y_test, y_pred)\n",
    "\n",
    "fig, ax = plt.subplots(figsize=(7,7))\n",
    "\n",
    "sns.set(font_scale=1.4) # for label size\n",
    "sns.heatmap(cm, ax=ax,annot=True, annot_kws={\"size\": 16}) # font size\n",
    "\n",
    "plt.xlabel('Predictions', fontsize=18)\n",
    "plt.ylabel('Actuals', fontsize=18)\n",
    "plt.title('Confusion Matrix', fontsize=18)\n",
    "plt.show()"
   ]
  },
  {
   "cell_type": "code",
   "execution_count": null,
   "id": "82711598",
   "metadata": {},
   "outputs": [],
   "source": [
    "#random forest model\n",
    "from sklearn.ensemble import RandomForestClassifier\n",
    "\n",
    "#Create the Classifier\n",
    "forest = RandomForestClassifier(n_estimators=100,random_state=0)\n",
    "\n",
    "#Train the model using the training sets y_pred=clf.predict(X_test)\n",
    "forest.fit(X_train,y_train)\n",
    "\n",
    "# making predictions on the testing set\n",
    "y_pred = forest.predict(X_test)\n",
    "\n",
    "# comparing actual response values (y_test) with predicted response values (y_pred)\n",
    "forest_score = metrics.accuracy_score(y_test, y_pred)*100\n",
    "print(f'The Random Forest model correctly predicts a win {forest_score:.2f}% of the time.')"
   ]
  },
  {
   "cell_type": "code",
   "execution_count": null,
   "id": "671a7d0a",
   "metadata": {},
   "outputs": [],
   "source": [
    "# Recover feature importance scores\n",
    "feature_imp = pd.Series(forest.feature_importances_,index=([\n",
    " 'epa_rushing_offense_home',\n",
    " 'epa_shifted2_rushing_offense_home',\n",
    " 'epa_passing_offense_home',\n",
    " 'epa_shifted2_passing_offense_home',\n",
    " 'epa_rushing_defense_home',\n",
    " 'epa_shifted2_rushing_defense_home',\n",
    " 'epa_passing_defense_home',\n",
    " 'epa_shifted2_passing_defense_home',\n",
    " 'epa_rushing_offense_away',\n",
    " 'epa_shifted2_rushing_offense_away',\n",
    " 'epa_passing_offense_away',\n",
    " 'epa_shifted2_passing_offense_away',\n",
    " 'epa_rushing_defense_away',\n",
    " 'epa_shifted2_rushing_defense_away',\n",
    " 'epa_passing_defense_away',\n",
    " 'epa_shifted2_passing_defense_away'])).sort_values(ascending=False)\n",
    "\n",
    "# So what do we have?\n",
    "feature_imp"
   ]
  },
  {
   "cell_type": "code",
   "execution_count": null,
   "id": "7f8d3c2b",
   "metadata": {},
   "outputs": [],
   "source": [
    "# import sklearn.cluster\n",
    "import matplotlib.pyplot as plt\n",
    "\n",
    "fig, ax = plt.subplots(figsize=(10,6))\n",
    "\n",
    "sns.barplot(x=feature_imp, y=feature_imp.index,ax=ax)\n",
    "\n",
    "plt.xlabel('Feature Importance Score')\n",
    "plt.ylabel('Features')\n",
    "plt.title(\"Visualizing Important Features\")\n",
    "plt.rcParams['figure.dpi'] = 300\n",
    "plt.rcParams['savefig.dpi'] = 300\n",
    "sns.despine()\n",
    "\n",
    "plt.show()"
   ]
  },
  {
   "cell_type": "code",
   "execution_count": null,
   "id": "b083374a",
   "metadata": {},
   "outputs": [],
   "source": [
    "#look at DVOA, weighted DVOA, DYAR\n",
    "#play action vs run success\n",
    "#defenses become more predictable when you have a good rush offense"
   ]
  }
 ],
 "metadata": {
  "kernelspec": {
   "display_name": "Python 3 (ipykernel)",
   "language": "python",
   "name": "python3"
  },
  "language_info": {
   "codemirror_mode": {
    "name": "ipython",
    "version": 3
   },
   "file_extension": ".py",
   "mimetype": "text/x-python",
   "name": "python",
   "nbconvert_exporter": "python",
   "pygments_lexer": "ipython3",
   "version": "3.9.7"
  }
 },
 "nbformat": 4,
 "nbformat_minor": 5
}
